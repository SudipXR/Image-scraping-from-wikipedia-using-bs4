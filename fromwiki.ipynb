{
 "cells": [
  {
   "cell_type": "code",
   "execution_count": 122,
   "id": "10f5f017",
   "metadata": {},
   "outputs": [],
   "source": [
    "import requests\n",
    "import bs4"
   ]
  },
  {
   "cell_type": "code",
   "execution_count": 123,
   "id": "8888fcdf",
   "metadata": {},
   "outputs": [
    {
     "name": "stdout",
     "output_type": "stream",
     "text": [
      "Enter full wiki url :https://en.wikipedia.org/wiki/Cristiano_Ronaldo\n"
     ]
    }
   ],
   "source": [
    "link = input(\"Enter full wiki url :\")"
   ]
  },
  {
   "cell_type": "code",
   "execution_count": 124,
   "id": "d8ca57c8",
   "metadata": {},
   "outputs": [],
   "source": [
    "# https://en.wikipedia.org/wiki/Cristiano_Ronaldo\n",
    "res = requests.get(link)"
   ]
  },
  {
   "cell_type": "code",
   "execution_count": 125,
   "id": "49e37103",
   "metadata": {},
   "outputs": [],
   "source": [
    "soup = bs4.BeautifulSoup(res.text, 'lxml')"
   ]
  },
  {
   "cell_type": "code",
   "execution_count": 127,
   "id": "2746d0a2",
   "metadata": {},
   "outputs": [],
   "source": [
    "person_url = soup.select('.infobox-image .image img')[0]['src']"
   ]
  },
  {
   "cell_type": "markdown",
   "id": "56140b9a",
   "metadata": {},
   "source": [
    "<img src=\"//upload.wikimedia.org/wikipedia/commons/thumb/8/8c/Cristiano_Ronaldo_2018.jpg/220px-Cristiano_Ronaldo_2018.jpg\">"
   ]
  },
  {
   "cell_type": "code",
   "execution_count": 128,
   "id": "745d7573",
   "metadata": {},
   "outputs": [],
   "source": [
    "file_name = soup.select('.infobox-image .image img')[0]['alt']"
   ]
  },
  {
   "cell_type": "code",
   "execution_count": 129,
   "id": "7e8c3844",
   "metadata": {},
   "outputs": [],
   "source": [
    "image_link = requests.get(f'http:{person_url}')"
   ]
  },
  {
   "cell_type": "code",
   "execution_count": 132,
   "id": "52677763",
   "metadata": {},
   "outputs": [],
   "source": [
    "with open(file_name,'wb') as f:\n",
    "    f.write(image_link.content)"
   ]
  },
  {
   "cell_type": "code",
   "execution_count": null,
   "id": "d1caa9f4",
   "metadata": {},
   "outputs": [],
   "source": []
  }
 ],
 "metadata": {
  "kernelspec": {
   "display_name": "Python 3 (ipykernel)",
   "language": "python",
   "name": "python3"
  },
  "language_info": {
   "codemirror_mode": {
    "name": "ipython",
    "version": 3
   },
   "file_extension": ".py",
   "mimetype": "text/x-python",
   "name": "python",
   "nbconvert_exporter": "python",
   "pygments_lexer": "ipython3",
   "version": "3.9.13"
  }
 },
 "nbformat": 4,
 "nbformat_minor": 5
}
