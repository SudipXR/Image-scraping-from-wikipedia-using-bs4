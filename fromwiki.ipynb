{
 "cells": [
  {
   "cell_type": "code",
   "execution_count": 122,
   "id": "10f5f017",
   "metadata": {},
   "outputs": [],
   "source": [
    "import requests\n",
    "import bs4"
   ]
  },
  {
   "cell_type": "code",
   "execution_count": 123,
   "id": "e6f86c1b",
   "metadata": {},
   "outputs": [
    {
     "name": "stdout",
     "output_type": "stream",
     "text": [
      "Enter full wiki url :https://en.wikipedia.org/wiki/Cristiano_Ronaldo\n"
     ]
    }
   ],
   "source": [
    "link = input(\"Enter full wiki url :\")"
   ]
  },
  {
   "cell_type": "code",
   "execution_count": 124,
   "id": "d8ca57c8",
   "metadata": {},
   "outputs": [],
   "source": [
    "# https://en.wikipedia.org/wiki/Cristiano_Ronaldo\n",
    "res = requests.get(link)"
   ]
  },
  {
   "cell_type": "code",
   "execution_count": 125,
   "id": "49e37103",
   "metadata": {},
   "outputs": [],
   "source": [
    "soup = bs4.BeautifulSoup(res.text, 'lxml')"
   ]
  },
  {
   "cell_type": "code",
   "execution_count": 126,
   "id": "81465a24",
   "metadata": {
    "scrolled": true
   },
   "outputs": [
    {
     "data": {
      "text/plain": [
       "<img alt=\"Cristiano Ronaldo 2018.jpg\" data-file-height=\"921\" data-file-width=\"614\" decoding=\"async\" height=\"330\" src=\"//upload.wikimedia.org/wikipedia/commons/thumb/8/8c/Cristiano_Ronaldo_2018.jpg/220px-Cristiano_Ronaldo_2018.jpg\" srcset=\"//upload.wikimedia.org/wikipedia/commons/thumb/8/8c/Cristiano_Ronaldo_2018.jpg/330px-Cristiano_Ronaldo_2018.jpg 1.5x, //upload.wikimedia.org/wikipedia/commons/thumb/8/8c/Cristiano_Ronaldo_2018.jpg/440px-Cristiano_Ronaldo_2018.jpg 2x\" width=\"220\"/>"
      ]
     },
     "execution_count": 126,
     "metadata": {},
     "output_type": "execute_result"
    }
   ],
  {
   "cell_type": "code",
   "execution_count": 127,
   "id": "d523e265",
   "metadata": {},
   "outputs": [],
   "source": [
    "person_url = soup.select('.infobox-image .image img')[0]['src']"
   ]
  },
  {
   "cell_type": "markdown",
   "id": "9c195e27",
   "metadata": {},
   "source": [
    "<img src=\"//upload.wikimedia.org/wikipedia/commons/thumb/8/8c/Cristiano_Ronaldo_2018.jpg/220px-Cristiano_Ronaldo_2018.jpg\">"
   ]
  },
  {
   "cell_type": "code",
   "execution_count": 128,
   "id": "e8019211",
   "metadata": {},
   "outputs": [],
   "source": [
    "file_name = soup.select('.infobox-image .image img')[0]['alt']"
   ]
  },
  {
   "cell_type": "code",
   "execution_count": 129,
   "id": "a7a27f71",
   "metadata": {},
   "outputs": [],
   "source": [
    "image_link = requests.get(f'http:{person_url}')"
   ]
  },
  {
   "cell_type": "code",
   "execution_count": 132,
   "id": "d4b660ed",
   "metadata": {},
   "outputs": [],
   "source": [
    "with open(file_name,'wb') as f:\n",
    "    f.write(image_link.content)"
   ]
  },
  {
   "cell_type": "code",
   "execution_count": null,
   "id": "7f6dafd6",
   "metadata": {},
   "outputs": [],
   "source": []
  }
 ],
 "metadata": {
  "kernelspec": {
   "display_name": "Python 3 (ipykernel)",
   "language": "python",
   "name": "python3"
  },
  "language_info": {
   "codemirror_mode": {
    "name": "ipython",
    "version": 3
   },
   "file_extension": ".py",
   "mimetype": "text/x-python",
   "name": "python",
   "nbconvert_exporter": "python",
   "pygments_lexer": "ipython3",
   "version": "3.9.13"
  }
 },
 "nbformat": 4,
 "nbformat_minor": 5
}
